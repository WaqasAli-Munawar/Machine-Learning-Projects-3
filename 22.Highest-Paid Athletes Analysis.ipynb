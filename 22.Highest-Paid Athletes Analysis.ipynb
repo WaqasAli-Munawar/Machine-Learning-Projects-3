{
 "cells": [
  {
   "cell_type": "markdown",
   "metadata": {},
   "source": [
    "One of the biggest reasons athletes make so much money is that we love to watch their games. "
   ]
  },
  {
   "cell_type": "code",
   "execution_count": 1,
   "metadata": {},
   "outputs": [],
   "source": [
    "import numpy as np # linear algebra\n",
    "import pandas as pd # data processing, CSV file I/O (e.g. pd.read_csv)\n",
    "import seaborn as sns\n",
    "import matplotlib.pyplot as plt"
   ]
  },
  {
   "cell_type": "code",
   "execution_count": 2,
   "metadata": {},
   "outputs": [],
   "source": [
    "sns.set(style=\"darkgrid\")\n",
    "plt.style.use(\"seaborn-pastel\")"
   ]
  },
  {
   "cell_type": "code",
   "execution_count": 3,
   "metadata": {},
   "outputs": [
    {
     "data": {
      "text/html": [
       "<div>\n",
       "<style scoped>\n",
       "    .dataframe tbody tr th:only-of-type {\n",
       "        vertical-align: middle;\n",
       "    }\n",
       "\n",
       "    .dataframe tbody tr th {\n",
       "        vertical-align: top;\n",
       "    }\n",
       "\n",
       "    .dataframe thead th {\n",
       "        text-align: right;\n",
       "    }\n",
       "</style>\n",
       "<table border=\"1\" class=\"dataframe\">\n",
       "  <thead>\n",
       "    <tr style=\"text-align: right;\">\n",
       "      <th></th>\n",
       "      <th>Rank</th>\n",
       "      <th>Name</th>\n",
       "      <th>Pay</th>\n",
       "      <th>Salary/Winnings</th>\n",
       "      <th>Endorsements</th>\n",
       "      <th>Sport</th>\n",
       "      <th>Year</th>\n",
       "    </tr>\n",
       "  </thead>\n",
       "  <tbody>\n",
       "    <tr>\n",
       "      <th>0</th>\n",
       "      <td>#1</td>\n",
       "      <td>Lionel Messi</td>\n",
       "      <td>$127 M</td>\n",
       "      <td>$92 M</td>\n",
       "      <td>$35 M</td>\n",
       "      <td>Soccer</td>\n",
       "      <td>2019</td>\n",
       "    </tr>\n",
       "    <tr>\n",
       "      <th>1</th>\n",
       "      <td>#2</td>\n",
       "      <td>Cristiano Ronaldo</td>\n",
       "      <td>$109 M</td>\n",
       "      <td>$65 M</td>\n",
       "      <td>$44 M</td>\n",
       "      <td>Soccer</td>\n",
       "      <td>2019</td>\n",
       "    </tr>\n",
       "    <tr>\n",
       "      <th>2</th>\n",
       "      <td>#3</td>\n",
       "      <td>Neymar</td>\n",
       "      <td>$105 M</td>\n",
       "      <td>$75 M</td>\n",
       "      <td>$30 M</td>\n",
       "      <td>Soccer</td>\n",
       "      <td>2019</td>\n",
       "    </tr>\n",
       "    <tr>\n",
       "      <th>3</th>\n",
       "      <td>#4</td>\n",
       "      <td>Canelo Alvarez</td>\n",
       "      <td>$94 M</td>\n",
       "      <td>$92 M</td>\n",
       "      <td>$2 M</td>\n",
       "      <td>Boxing</td>\n",
       "      <td>2019</td>\n",
       "    </tr>\n",
       "    <tr>\n",
       "      <th>4</th>\n",
       "      <td>#5</td>\n",
       "      <td>Roger Federer</td>\n",
       "      <td>$93.4 M</td>\n",
       "      <td>$7.4 M</td>\n",
       "      <td>$86 M</td>\n",
       "      <td>Tennis</td>\n",
       "      <td>2019</td>\n",
       "    </tr>\n",
       "  </tbody>\n",
       "</table>\n",
       "</div>"
      ],
      "text/plain": [
       "  Rank               Name      Pay Salary/Winnings Endorsements   Sport  Year\n",
       "0   #1       Lionel Messi   $127 M           $92 M        $35 M  Soccer  2019\n",
       "1   #2  Cristiano Ronaldo   $109 M           $65 M        $44 M  Soccer  2019\n",
       "2   #3             Neymar   $105 M           $75 M        $30 M  Soccer  2019\n",
       "3   #4     Canelo Alvarez    $94 M           $92 M         $2 M  Boxing  2019\n",
       "4   #5      Roger Federer  $93.4 M          $7.4 M        $86 M  Tennis  2019"
      ]
     },
     "execution_count": 3,
     "metadata": {},
     "output_type": "execute_result"
    }
   ],
   "source": [
    "df = pd.read_excel(\"Forbes Athlete List 2012-2019.xlsx\")\n",
    "df.head()"
   ]
  },
  {
   "cell_type": "code",
   "execution_count": 4,
   "metadata": {},
   "outputs": [
    {
     "data": {
      "text/plain": [
       "(795, 7)"
      ]
     },
     "execution_count": 4,
     "metadata": {},
     "output_type": "execute_result"
    }
   ],
   "source": [
    "df.shape"
   ]
  },
  {
   "cell_type": "markdown",
   "metadata": {},
   "source": [
    "Dataset contains `7` columns and `795` rows, let describe the data in short:\n",
    "\n",
    "* `Rank`: Annual ranking based on salary\n",
    "* `Name`: Athlete’s name\n",
    "* `Salary`: Salary and Endorsement \n",
    "* `Salary / Winnings`: Athlete’s salary\n",
    "* `Endorsements`: Revenue from advertising, social media, sponsors, etc.\n",
    "* `Sport`: Type of athlete’s sport\n",
    "* `Year`: Year of payroll"
   ]
  },
  {
   "cell_type": "markdown",
   "metadata": {},
   "source": [
    "Some columns are not consistent across the dataset for example `#` before the rank value. Let’s fix this one and remove the **dollar sign** and `M`. Let’s also change `Soccer` to `Football` and `Football` to `American Football`:"
   ]
  },
  {
   "cell_type": "code",
   "execution_count": 5,
   "metadata": {},
   "outputs": [],
   "source": [
    "df.Rank = df.Rank.apply(lambda x: int(x.split(\"#\")[1]) if type(x) == np.str else x)\n",
    "df.Pay = df.Pay.apply(lambda x: float(x.split(\" \")[0].split(\"$\")[1]))\n",
    "df.Endorsements = df.Endorsements.apply(lambda x: float(x.split(\" \")[0].split(\"$\")[1]))"
   ]
  },
  {
   "cell_type": "code",
   "execution_count": 6,
   "metadata": {},
   "outputs": [],
   "source": [
    "df[\"Salary/Winnings\"].replace(\"-\",'$nan M',inplace=True)\n",
    "df[\"Salary/Winnings\"] = df[\"Salary/Winnings\"].apply(lambda x: float(x.split(\" \")[0].split(\"$\")[1]))"
   ]
  },
  {
   "cell_type": "code",
   "execution_count": 7,
   "metadata": {},
   "outputs": [],
   "source": [
    "df.Sport.replace({\"Soccer\":\"Football\",\n",
    "                  \"Football\":\"American Football\",\n",
    "                 \"Mixed Martial Arts\":\"MMA\",\n",
    "                 \"Auto racing\":\"Racing\",\n",
    "                  \"Auto Racing\":\"Racing\",\n",
    "                  \"Basketbal\":\"Basketball\",\n",
    "                 },inplace=True)\n",
    "\n",
    "df.columns = ['Rank', 'Name', 'Pay', 'Salary_Winnings', \n",
    "              'Endorsements', 'Sport', 'Year']"
   ]
  },
  {
   "cell_type": "markdown",
   "metadata": {},
   "source": [
    "Now let’s see the breakdown of athletes in the data set based on their sport type:"
   ]
  },
  {
   "cell_type": "code",
   "execution_count": 11,
   "metadata": {},
   "outputs": [
    {
     "data": {
      "text/plain": [
       "American Football    101\n",
       "Basketball            63\n",
       "Baseball              58\n",
       "Football              34\n",
       "Golf                  12\n",
       "Name: Sport, dtype: int64"
      ]
     },
     "execution_count": 11,
     "metadata": {},
     "output_type": "execute_result"
    }
   ],
   "source": [
    "sports = df.groupby(\"Name\").first()[\"Sport\"].value_counts()\n",
    "sports.head()"
   ]
  },
  {
   "cell_type": "code",
   "execution_count": 13,
   "metadata": {},
   "outputs": [
    {
     "data": {
      "image/png": "[encoded data removed]",
      "text/plain": [
       "<Figure size 576x576 with 1 Axes>"
      ]
     },
     "metadata": {},
     "output_type": "display_data"
    }
   ],
   "source": [
    "sports.plot(kind=\"pie\",autopct=\"%.0f%%\",figsize=(8,8),\n",
    "            wedgeprops=dict(width=0.4),pctdistance=.8)\n",
    "\n",
    "plt.ylabel(None)\n",
    "plt.title(\"Breakdown of Athletes by Sport\",fontweight=\"bold\")\n",
    "plt.show()"
   ]
  },
  {
   "cell_type": "markdown",
   "metadata": {},
   "source": [
    "### Bar Animation for Highest-Paid Athletes \n",
    "\n",
    "Let’s visualize the cumulative pays of the athletes in a **running bar animation**. First, we’ll convert the `year` column to a `DateTime` object:"
   ]
  },
  {
   "cell_type": "code",
   "execution_count": 14,
   "metadata": {},
   "outputs": [],
   "source": [
    "df.Year = pd.to_datetime(df.Year,format=\"%Y\")"
   ]
  },
  {
   "cell_type": "markdown",
   "metadata": {},
   "source": [
    "Next, prepare a **pivot table** where the `columns` are the **athletes** and the `index` is the **years**:"
   ]
  },
  {
   "cell_type": "code",
   "execution_count": 16,
   "metadata": {},
   "outputs": [
    {
     "data": {
      "text/html": [
       "<div>\n",
       "<style scoped>\n",
       "    .dataframe tbody tr th:only-of-type {\n",
       "        vertical-align: middle;\n",
       "    }\n",
       "\n",
       "    .dataframe tbody tr th {\n",
       "        vertical-align: top;\n",
       "    }\n",
       "\n",
       "    .dataframe thead th {\n",
       "        text-align: right;\n",
       "    }\n",
       "</style>\n",
       "<table border=\"1\" class=\"dataframe\">\n",
       "  <thead>\n",
       "    <tr style=\"text-align: right;\">\n",
       "      <th>Name</th>\n",
       "      <th>A.J. Burnett</th>\n",
       "      <th>A.J. Green</th>\n",
       "      <th>Aaron Donald</th>\n",
       "      <th>Aaron Rodgers</th>\n",
       "      <th>Adam Wainwright</th>\n",
       "      <th>Adrian Gonzalez</th>\n",
       "      <th>Adrian Peterson</th>\n",
       "      <th>Al Horford</th>\n",
       "      <th>Albert Pujols</th>\n",
       "      <th>Alex Rodriguez</th>\n",
       "      <th>...</th>\n",
       "      <th>Virat Kohli</th>\n",
       "      <th>Von Miller</th>\n",
       "      <th>Wayne Rooney</th>\n",
       "      <th>Wladimir Klitschko</th>\n",
       "      <th>Yaya Touré</th>\n",
       "      <th>Yoenis Cespedes</th>\n",
       "      <th>Zach Randolph</th>\n",
       "      <th>Zack Greinke</th>\n",
       "      <th>Zack Grienke</th>\n",
       "      <th>Zlatan Ibrahimovic</th>\n",
       "    </tr>\n",
       "    <tr>\n",
       "      <th>Year</th>\n",
       "      <th></th>\n",
       "      <th></th>\n",
       "      <th></th>\n",
       "      <th></th>\n",
       "      <th></th>\n",
       "      <th></th>\n",
       "      <th></th>\n",
       "      <th></th>\n",
       "      <th></th>\n",
       "      <th></th>\n",
       "      <th></th>\n",
       "      <th></th>\n",
       "      <th></th>\n",
       "      <th></th>\n",
       "      <th></th>\n",
       "      <th></th>\n",
       "      <th></th>\n",
       "      <th></th>\n",
       "      <th></th>\n",
       "      <th></th>\n",
       "      <th></th>\n",
       "    </tr>\n",
       "  </thead>\n",
       "  <tbody>\n",
       "    <tr>\n",
       "      <th>2012-01-01</th>\n",
       "      <td>NaN</td>\n",
       "      <td>NaN</td>\n",
       "      <td>NaN</td>\n",
       "      <td>NaN</td>\n",
       "      <td>NaN</td>\n",
       "      <td>NaN</td>\n",
       "      <td>21.5</td>\n",
       "      <td>NaN</td>\n",
       "      <td>17.4</td>\n",
       "      <td>33.0</td>\n",
       "      <td>...</td>\n",
       "      <td>NaN</td>\n",
       "      <td>NaN</td>\n",
       "      <td>24.3</td>\n",
       "      <td>28.0</td>\n",
       "      <td>19.1</td>\n",
       "      <td>NaN</td>\n",
       "      <td>NaN</td>\n",
       "      <td>NaN</td>\n",
       "      <td>NaN</td>\n",
       "      <td>NaN</td>\n",
       "    </tr>\n",
       "    <tr>\n",
       "      <th>2013-01-01</th>\n",
       "      <td>16.6</td>\n",
       "      <td>NaN</td>\n",
       "      <td>NaN</td>\n",
       "      <td>49.0</td>\n",
       "      <td>NaN</td>\n",
       "      <td>21.2</td>\n",
       "      <td>NaN</td>\n",
       "      <td>NaN</td>\n",
       "      <td>NaN</td>\n",
       "      <td>30.3</td>\n",
       "      <td>...</td>\n",
       "      <td>NaN</td>\n",
       "      <td>NaN</td>\n",
       "      <td>21.1</td>\n",
       "      <td>24.0</td>\n",
       "      <td>20.7</td>\n",
       "      <td>NaN</td>\n",
       "      <td>17.0</td>\n",
       "      <td>NaN</td>\n",
       "      <td>21.7</td>\n",
       "      <td>19.7</td>\n",
       "    </tr>\n",
       "    <tr>\n",
       "      <th>2014-01-01</th>\n",
       "      <td>NaN</td>\n",
       "      <td>NaN</td>\n",
       "      <td>NaN</td>\n",
       "      <td>22.0</td>\n",
       "      <td>NaN</td>\n",
       "      <td>NaN</td>\n",
       "      <td>NaN</td>\n",
       "      <td>NaN</td>\n",
       "      <td>NaN</td>\n",
       "      <td>NaN</td>\n",
       "      <td>...</td>\n",
       "      <td>NaN</td>\n",
       "      <td>NaN</td>\n",
       "      <td>23.4</td>\n",
       "      <td>28.0</td>\n",
       "      <td>21.7</td>\n",
       "      <td>NaN</td>\n",
       "      <td>18.8</td>\n",
       "      <td>NaN</td>\n",
       "      <td>NaN</td>\n",
       "      <td>40.4</td>\n",
       "    </tr>\n",
       "  </tbody>\n",
       "</table>\n",
       "<p>3 rows × 300 columns</p>\n",
       "</div>"
      ],
      "text/plain": [
       "Name        A.J. Burnett  A.J. Green  Aaron Donald  Aaron Rodgers  \\\n",
       "Year                                                                \n",
       "2012-01-01           NaN         NaN           NaN            NaN   \n",
       "2013-01-01          16.6         NaN           NaN           49.0   \n",
       "2014-01-01           NaN         NaN           NaN           22.0   \n",
       "\n",
       "Name        Adam Wainwright  Adrian Gonzalez  Adrian Peterson  Al Horford  \\\n",
       "Year                                                                        \n",
       "2012-01-01              NaN              NaN             21.5         NaN   \n",
       "2013-01-01              NaN             21.2              NaN         NaN   \n",
       "2014-01-01              NaN              NaN              NaN         NaN   \n",
       "\n",
       "Name        Albert Pujols  Alex Rodriguez  ...  Virat Kohli  Von Miller  \\\n",
       "Year                                       ...                            \n",
       "2012-01-01           17.4            33.0  ...          NaN         NaN   \n",
       "2013-01-01            NaN            30.3  ...          NaN         NaN   \n",
       "2014-01-01            NaN             NaN  ...          NaN         NaN   \n",
       "\n",
       "Name        Wayne Rooney  Wladimir Klitschko  Yaya Touré  Yoenis Cespedes  \\\n",
       "Year                                                                        \n",
       "2012-01-01          24.3                28.0        19.1              NaN   \n",
       "2013-01-01          21.1                24.0        20.7              NaN   \n",
       "2014-01-01          23.4                28.0        21.7              NaN   \n",
       "\n",
       "Name        Zach Randolph  Zack Greinke  Zack Grienke  Zlatan Ibrahimovic  \n",
       "Year                                                                       \n",
       "2012-01-01            NaN           NaN           NaN                 NaN  \n",
       "2013-01-01           17.0           NaN          21.7                19.7  \n",
       "2014-01-01           18.8           NaN           NaN                40.4  \n",
       "\n",
       "[3 rows x 300 columns]"
      ]
     },
     "execution_count": 16,
     "metadata": {},
     "output_type": "execute_result"
    }
   ],
   "source": [
    "racing_bar_data = df.pivot_table(values=\"Pay\",index=\"Year\",columns=\"Name\")\n",
    "racing_bar_data.head(3)"
   ]
  },
  {
   "cell_type": "markdown",
   "metadata": {},
   "source": [
    "The athletes mentioned below are the only ones who are consistently included in the Top 100 list for each year since `2012`. The rest of the athletes have `NaN` values. We will first interpolate the **NaNs** `linearly` and use the filling of the remaining **NaNs** with **backfilling**:"
   ]
  },
  {
   "cell_type": "code",
   "execution_count": 17,
   "metadata": {},
   "outputs": [
    {
     "data": {
      "text/plain": [
       "Index(['Carmelo Anthony', 'Cristiano Ronaldo', 'Dwight Howard',\n",
       "       'Justin Verlander', 'LeBron James', 'Lionel Messi', 'Phil Mickelson',\n",
       "       'Rafael Nadal', 'Roger Federer', 'Tiger Woods'],\n",
       "      dtype='object', name='Name')"
      ]
     },
     "execution_count": 17,
     "metadata": {},
     "output_type": "execute_result"
    }
   ],
   "source": [
    "racing_bar_data.columns[racing_bar_data.isnull().sum() == 0]"
   ]
  },
  {
   "cell_type": "markdown",
   "metadata": {},
   "source": [
    "Now convert the data to a cumulative payroll sum over several years:"
   ]
  },
  {
   "cell_type": "code",
   "execution_count": 18,
   "metadata": {},
   "outputs": [],
   "source": [
    "racing_bar_filled = racing_bar_data.interpolate(method=\"linear\").fillna(method=\"bfill\")\n",
    "racing_bar_filled = racing_bar_filled.cumsum()"
   ]
  },
  {
   "cell_type": "markdown",
   "metadata": {},
   "source": [
    "Now, let’s oversample the dataset with `interpolation (linear)` for a smooth transition in the frames of the animation:"
   ]
  },
  {
   "cell_type": "code",
   "execution_count": 19,
   "metadata": {},
   "outputs": [],
   "source": [
    "racing_bar_filled = racing_bar_filled.resample(\"1D\").interpolate(method=\"linear\")[::7]"
   ]
  },
  {
   "cell_type": "markdown",
   "metadata": {},
   "source": [
    "### Creating and Saving a Bar Chart Animation\n",
    "\n",
    "Now let’s import the Python packages needed to create and save animations, and run paths and their elements (`lines`, `bars`, `texts`, etc.). The code below will generate an animation for the 10 highest-paid athletes between `2012` and `2019`:"
   ]
  },
  {
   "cell_type": "code",
   "execution_count": 20,
   "metadata": {},
   "outputs": [],
   "source": [
    "from matplotlib.animation import FuncAnimation, FFMpegWriter\n",
    "\n",
    "selected  = racing_bar_filled.iloc[-1,:].sort_values(ascending=False)[:20].index\n",
    "data = racing_bar_filled[selected].round()"
   ]
  },
  {
   "cell_type": "code",
   "execution_count": 21,
   "metadata": {},
   "outputs": [
    {
     "data": {
      "image/png": "[encoded data removed]",
      "text/plain": [
       "<Figure size 669.6x504 with 1 Axes>"
      ]
     },
     "metadata": {},
     "output_type": "display_data"
    }
   ],
   "source": [
    "fig,ax = plt.subplots(figsize=(9.3,7))\n",
    "fig.subplots_adjust(left=0.18)\n",
    "no_of_frames = data.shape[0] #Number of frames"
   ]
  },
  {
   "cell_type": "code",
   "execution_count": 22,
   "metadata": {},
   "outputs": [
    {
     "data": {
      "text/plain": [
       "Text(3.200000000000003, 0.5, '')"
      ]
     },
     "execution_count": 22,
     "metadata": {},
     "output_type": "execute_result"
    }
   ],
   "source": [
    "#initiate the barplot with the first rows of the dataframe\n",
    "bars = sns.barplot(y=data.columns,x=data.iloc[0,:],orient=\"h\",ax=ax)\n",
    "ax.set_xlim(0,1500)\n",
    "txts = [ax.text(0,i,0,va=\"center\") for i in range(data.shape[1])]\n",
    "title_txt = ax.text(650,-1,\"Date: \",fontsize=12)\n",
    "ax.set_xlabel(\"Pay (Millions USD)\")\n",
    "ax.set_ylabel(None)"
   ]
  },
  {
   "cell_type": "code",
   "execution_count": 23,
   "metadata": {},
   "outputs": [],
   "source": [
    "def animate(i):\n",
    "#     print(f\"i={i}/{no_of_frames}\")\n",
    "    #get i'th row of data \n",
    "    y = data.iloc[i,:]\n",
    "    \n",
    "    #update title of the barplot axis\n",
    "    title_txt.set_text(f\"Date: {str(data.index[i].date())}\")\n",
    "    \n",
    "    #update elements in both plots\n",
    "    for j, b, in enumerate(bars.patches):\n",
    "        #update each bar's height\n",
    "        b.set_width(y[j])\n",
    "        \n",
    "        #update text for each bar (optional)\n",
    "        txts[j].set_text(f\"${y[j].astype(int)}M\")\n",
    "        txts[j].set_x(y[j])"
   ]
  },
  {
   "cell_type": "code",
   "execution_count": 24,
   "metadata": {},
   "outputs": [
    {
     "name": "stderr",
     "output_type": "stream",
     "text": [
      "MovieWriter imagemagick unavailable; trying to use <class 'matplotlib.animation.PillowWriter'> instead.\n"
     ]
    }
   ],
   "source": [
    "anim=FuncAnimation(fig,animate,repeat=False,frames=no_of_frames,interval=1,\n",
    "                   blit=False)\n",
    "anim.save('athletes.gif', writer='imagemagick', fps=120)"
   ]
  },
  {
   "cell_type": "code",
   "execution_count": 25,
   "metadata": {},
   "outputs": [],
   "source": [
    "plt.close(fig)"
   ]
  },
  {
   "cell_type": "code",
   "execution_count": null,
   "metadata": {},
   "outputs": [],
   "source": []
  }
 ],
 "metadata": {
  "kernelspec": {
   "display_name": "Python 3",
   "language": "python",
   "name": "python3"
  },
  "language_info": {
   "codemirror_mode": {
    "name": "ipython",
    "version": 3
   },
   "file_extension": ".py",
   "mimetype": "text/x-python",
   "name": "python",
   "nbconvert_exporter": "python",
   "pygments_lexer": "ipython3",
   "version": "3.7.6"
  }
 },
 "nbformat": 4,
 "nbformat_minor": 4
}
