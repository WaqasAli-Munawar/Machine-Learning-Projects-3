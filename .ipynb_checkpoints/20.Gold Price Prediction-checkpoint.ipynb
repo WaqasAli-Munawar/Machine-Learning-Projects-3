{
 "cells": [
  {
   "cell_type": "markdown",
   "metadata": {},
   "source": [
    "Gold has always held a prominent place in the country’s economy and among the people. Gold prices have historically skyrocketed, peaking at $ 1,800 in 2020. These swings that gold has faced can be attributed to several events that occurred during the period. Stock prices are strongly correlated with public information and world events, and gold has no exception.\n",
    "\n",
    "Unlike other financial assets, precious metals behave positively in times of crisis. Indeed, in the face of events such as epidemics, wars and economic disruption, most assets experience a decline in their value. However, in search of cover, investors are turning their attention to gold. As a result, the demand for yellow metal increases, resulting in a rise in the market valuation.\n",
    "\n",
    "Gold tends to be viewed as a strategic and tactical investment asset when considering portfolio diversification. However, economic and financial aspects are not the only factors that can affect gold prices. Geopolitical factors may also influence the valuation of the yellow metal’s market."
   ]
  },
  {
   "cell_type": "markdown",
   "metadata": {},
   "source": [
    "**Indeed**, show that faced with geopolitical risks, gold acts as a safe haven. In fact, he has an affirmative reaction in times of threats resulting from geopolitical and international tensions.\n",
    "\n",
    "By analyzing financial, geopolitical and global data on natural disasters, it is possible to predict future fluctuations in the price of gold, which will allow investors to improve the management of their portfolio in the face of unexpected movements of the market."
   ]
  },
  {
   "cell_type": "code",
   "execution_count": 1,
   "metadata": {},
   "outputs": [],
   "source": [
    "import pandas as pd\n",
    "import numpy as np\n",
    "import matplotlib.pyplot as plt\n",
    "%matplotlib inline\n",
    "import warnings\n",
    "warnings.filterwarnings('ignore')\n",
    "from sklearn.linear_model import LinearRegression"
   ]
  },
  {
   "cell_type": "code",
   "execution_count": 2,
   "metadata": {},
   "outputs": [
    {
     "data": {
      "text/html": [
       "<div>\n",
       "<style scoped>\n",
       "    .dataframe tbody tr th:only-of-type {\n",
       "        vertical-align: middle;\n",
       "    }\n",
       "\n",
       "    .dataframe tbody tr th {\n",
       "        vertical-align: top;\n",
       "    }\n",
       "\n",
       "    .dataframe thead th {\n",
       "        text-align: right;\n",
       "    }\n",
       "</style>\n",
       "<table border=\"1\" class=\"dataframe\">\n",
       "  <thead>\n",
       "    <tr style=\"text-align: right;\">\n",
       "      <th></th>\n",
       "      <th>USD (AM)</th>\n",
       "      <th>USD (PM)</th>\n",
       "      <th>GBP (AM)</th>\n",
       "      <th>GBP (PM)</th>\n",
       "      <th>EURO (AM)</th>\n",
       "      <th>EURO (PM)</th>\n",
       "    </tr>\n",
       "    <tr>\n",
       "      <th>Date</th>\n",
       "      <th></th>\n",
       "      <th></th>\n",
       "      <th></th>\n",
       "      <th></th>\n",
       "      <th></th>\n",
       "      <th></th>\n",
       "    </tr>\n",
       "  </thead>\n",
       "  <tbody>\n",
       "    <tr>\n",
       "      <th>2001-01-02</th>\n",
       "      <td>272.80</td>\n",
       "      <td>271.10</td>\n",
       "      <td>183.026</td>\n",
       "      <td>181.617</td>\n",
       "      <td>288.677</td>\n",
       "      <td>287.334</td>\n",
       "    </tr>\n",
       "    <tr>\n",
       "      <th>2001-01-03</th>\n",
       "      <td>269.00</td>\n",
       "      <td>267.15</td>\n",
       "      <td>178.916</td>\n",
       "      <td>177.390</td>\n",
       "      <td>281.823</td>\n",
       "      <td>281.655</td>\n",
       "    </tr>\n",
       "    <tr>\n",
       "      <th>2001-01-04</th>\n",
       "      <td>268.75</td>\n",
       "      <td>267.10</td>\n",
       "      <td>178.869</td>\n",
       "      <td>178.352</td>\n",
       "      <td>282.538</td>\n",
       "      <td>282.049</td>\n",
       "    </tr>\n",
       "    <tr>\n",
       "      <th>2001-01-05</th>\n",
       "      <td>268.00</td>\n",
       "      <td>267.40</td>\n",
       "      <td>178.488</td>\n",
       "      <td>178.148</td>\n",
       "      <td>280.775</td>\n",
       "      <td>280.882</td>\n",
       "    </tr>\n",
       "    <tr>\n",
       "      <th>2001-01-08</th>\n",
       "      <td>268.60</td>\n",
       "      <td>268.30</td>\n",
       "      <td>178.769</td>\n",
       "      <td>178.664</td>\n",
       "      <td>282.410</td>\n",
       "      <td>282.481</td>\n",
       "    </tr>\n",
       "  </tbody>\n",
       "</table>\n",
       "</div>"
      ],
      "text/plain": [
       "            USD (AM)  USD (PM)  GBP (AM)  GBP (PM)  EURO (AM)  EURO (PM)\n",
       "Date                                                                    \n",
       "2001-01-02    272.80    271.10   183.026   181.617    288.677    287.334\n",
       "2001-01-03    269.00    267.15   178.916   177.390    281.823    281.655\n",
       "2001-01-04    268.75    267.10   178.869   178.352    282.538    282.049\n",
       "2001-01-05    268.00    267.40   178.488   178.148    280.775    280.882\n",
       "2001-01-08    268.60    268.30   178.769   178.664    282.410    282.481"
      ]
     },
     "execution_count": 2,
     "metadata": {},
     "output_type": "execute_result"
    }
   ],
   "source": [
    "df = pd.read_csv(\"gold_price.csv\",parse_dates=True,index_col='Date')\n",
    "df.head()"
   ]
  },
  {
   "cell_type": "code",
   "execution_count": 3,
   "metadata": {},
   "outputs": [
    {
     "data": {
      "text/plain": [
       "dtype('<M8[ns]')"
      ]
     },
     "execution_count": 3,
     "metadata": {},
     "output_type": "execute_result"
    }
   ],
   "source": [
    "df.index.dtype"
   ]
  },
  {
   "cell_type": "markdown",
   "metadata": {},
   "source": [
    "Now let’s do some data preparation to fit the data properly in our machine learning model:"
   ]
  },
  {
   "cell_type": "code",
   "execution_count": 4,
   "metadata": {},
   "outputs": [],
   "source": [
    "df['Return'] = df['USD (PM)'].pct_change() * 100 # Percentage change between the current and a prior element.\n",
    "df['Lagged_Return'] = df.Return.shift() # When `freq` is not passed, shift the index without realigning the data."
   ]
  },
  {
   "cell_type": "code",
   "execution_count": 5,
   "metadata": {},
   "outputs": [],
   "source": [
    "df = df.dropna()"
   ]
  },
  {
   "cell_type": "code",
   "execution_count": 6,
   "metadata": {},
   "outputs": [],
   "source": [
    "train = df['2001':'2018']\n",
    "test = df['2019']"
   ]
  },
  {
   "cell_type": "code",
   "execution_count": 7,
   "metadata": {},
   "outputs": [],
   "source": [
    "# Create train and test sets for dependent and independent variables\n",
    "X_train = train[\"Lagged_Return\"].to_frame()\n",
    "y_train = train[\"Return\"]\n",
    "X_test = test[\"Lagged_Return\"].to_frame()\n",
    "y_test = test[\"Return\"]"
   ]
  },
  {
   "cell_type": "markdown",
   "metadata": {},
   "source": [
    "We have prepared the data to fit in a machine learning model. Lets train the model using **Linear Regression** algorithm:"
   ]
  },
  {
   "cell_type": "code",
   "execution_count": 8,
   "metadata": {},
   "outputs": [],
   "source": [
    "model = LinearRegression()\n",
    "model.fit(X_train, y_train)\n",
    "predictions = model.predict(X_test)"
   ]
  },
  {
   "cell_type": "markdown",
   "metadata": {},
   "source": [
    "Now let’s plot the results of gold price prediction that we got from the linear regression algorithm:"
   ]
  },
  {
   "cell_type": "code",
   "execution_count": 9,
   "metadata": {},
   "outputs": [],
   "source": [
    "out_of_sample_results = y_test.to_frame()\n",
    "\n",
    "# Add a column of \"out-of-sample\" predictions to that dataframe:  \n",
    "out_of_sample_results[\"Out-of-Sample Predictions\"] = model.predict(X_test)"
   ]
  },
  {
   "cell_type": "code",
   "execution_count": 10,
   "metadata": {},
   "outputs": [
    {
     "data": {
      "image/png": "[encoded data removed]",
      "text/plain": [
       "<Figure size 432x288 with 2 Axes>"
      ]
     },
     "metadata": {
      "needs_background": "light"
     },
     "output_type": "display_data"
    }
   ],
   "source": [
    "out_of_sample_results.plot(subplots=True, title='Gold prices, USD')\n",
    "plt.show()"
   ]
  },
  {
   "cell_type": "code",
   "execution_count": null,
   "metadata": {},
   "outputs": [],
   "source": []
  }
 ],
 "metadata": {
  "kernelspec": {
   "display_name": "Python 3",
   "language": "python",
   "name": "python3"
  },
  "language_info": {
   "codemirror_mode": {
    "name": "ipython",
    "version": 3
   },
   "file_extension": ".py",
   "mimetype": "text/x-python",
   "name": "python",
   "nbconvert_exporter": "python",
   "pygments_lexer": "ipython3",
   "version": "3.7.6"
  }
 },
 "nbformat": 4,
 "nbformat_minor": 4
}
