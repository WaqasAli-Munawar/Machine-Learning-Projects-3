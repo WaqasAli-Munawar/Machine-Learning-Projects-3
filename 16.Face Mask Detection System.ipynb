{
 "cells": [
  {
   "cell_type": "markdown",
   "metadata": {},
   "source": [
    "In the age of Covid-19, face masks and social distancing have become the new norm. Indoor places, such as restaurants and grocery stores, are legally required to have rules in place for the mandatory use of face masks. Having a worker, manually examining each person to make sure their mask is on, simply defeats the goal of limiting contact with people as much as possible. So, a real-time face mask detection system can be used to address this issue that will not only maximize efficiency but will also ensure to potentially save lives."
   ]
  },
  {
   "cell_type": "markdown",
   "metadata": {},
   "source": [
    "The technology behind the real-time face mask detection system is not new. In Machine Learning, face mask detection is an example of **Computer Vision**. We often see a computer vision applications in our daily live. A common example is a **face unlocking** in `smartphones`.\n",
    "\n",
    "The goal of a face mask detection system is to create an **Image Recognition System** that understands how **Image Classification** works, and it should work with great accuracy so that our model can be applied in the realtime situations. It will work by recognizing the boundaries of the face and predicting whether or not we are wearing a face mask in real-time."
   ]
  },
  {
   "cell_type": "markdown",
   "metadata": {},
   "source": [
    "Now, we are  going to create a **Convolutional Neural Network (CNN)** to create a real-time facial mask detection model. Here, we will use three dense layers in our model with `50`, `35` and `2` **neurons** respectively. The dense network produces the probability of the `binary` classification of `no mask = 0` and `mask = 1`:"
   ]
  },
  {
   "cell_type": "code",
   "execution_count": null,
   "metadata": {},
   "outputs": [],
   "source": [
    "# !pip install opencv-python"
   ]
  },
  {
   "cell_type": "code",
   "execution_count": null,
   "metadata": {},
   "outputs": [],
   "source": [
    "import cv2\n",
    "import numpy as np\n",
    "import matplotlib.pyplot as plt\n",
    "from tensorflow.keras.models import Sequential\n",
    "from tensorflow.keras.layers import Conv2D, MaxPooling2D, Flatten, Dropout,Dense"
   ]
  },
  {
   "cell_type": "code",
   "execution_count": null,
   "metadata": {},
   "outputs": [],
   "source": [
    "cnn = Sequential([Conv2D(filters=100, kernel_size=(3,3), activation='relu'),\n",
    "                  MaxPooling2D(pool_size=(2,2)),\n",
    "                  Conv2D(filters=100, kernel_size=(3,3),activation='relu'),\n",
    "                  MaxPooling2D(pool_size=(2,2)),\n",
    "                  Flatten(),\n",
    "                  Dropout(0.5),\n",
    "                  Dense(50),\n",
    "                  Dense(35),\n",
    "                  Dense(2)])\n",
    "\n",
    "cnn.compile(optimizer='adam', loss='binary_crossentropy', metrics=['acc'])"
   ]
  },
  {
   "cell_type": "markdown",
   "metadata": {},
   "source": [
    "### Testing The Model \n",
    "\n",
    "To test our model in real-time, we’ll be using the **VideoCapture** function in the **OpenCV** library. The [Cascade classifier](https://raw.githubusercontent.com/amankharwal/Website-data/master/haarcascade_frontalface_default.xml), designed by **OpenCV**, is used to detect the frontal face in live video via `detectMultiScale`. We can use a `while loop` to continue capturing images from the webcam.\n",
    "\n",
    "Our machine learning model will then determine whether or not a face mask is worn in real-time. Based on the performance and accuracy of our model, the result of the binary classifier will be indicated by showing a `green rectangle` superimposed around the section of the face indicating that the person at the camera is **wearing a mask**, or a `red rectangle` indicating that the person on camera is **not wearing a mask**.\n",
    "\n",
    "let’s implement the above steps for testing the face mask detection model in real-time."
   ]
  },
  {
   "cell_type": "code",
   "execution_count": null,
   "metadata": {},
   "outputs": [],
   "source": [
    "labels_dict={0:'No mask',1:'Mask'}\n",
    "color_dict={0:(0,0,255),1:(0,255,0)}\n",
    "imgsize = 4 # set image resize\n",
    "\n",
    "camera = cv2.VideoCapture(0) # Turn on camera\n",
    "\n",
    "\n",
    "# Identify frontal face\n",
    "classifier = cv2.CascadeClassifier(cv2.data.haarcascades + 'haarcascade_frontalface_default.xml')\n",
    "\n",
    "while True:\n",
    "    rval, im = camera.read()\n",
    "    im=cv2.flip(im,1,1) # flip image\n",
    "    imgs = cv2.resize(im, (im.shape[1] // imgsize, im.shape[0] //imgsize))\n",
    "    \n",
    "    face_rec = classifier.detectMultiScale(imgs) \n",
    "    for i in face_rec: # Overlay rectangle on face\n",
    "        (x, y, l, w) = [v * imgsize for v in i] \n",
    "        face_img = im[y:y+w, x:x+l]\n",
    "        resized=cv2.resize(face_img,(150,150))\n",
    "        normalized=resized/255.0\n",
    "        reshaped=np.reshape(normalized,(1,150,150,3))\n",
    "        reshaped = np.vstack([reshaped])\n",
    "        result=cnn.predict(reshaped)\n",
    "        label=np.argmax(result,axis=1)[0]\n",
    "        cv2.rectangle(im,(x,y),(x+l,y+w),color_dict[label],2)\n",
    "        cv2.rectangle(im,(x,y-40),(x+l,y),color_dict[label],-1)\n",
    "        cv2.putText(im, labels_dict[label], (x, y-10),cv2.FONT_HERSHEY_SIMPLEX,\n",
    "                    0.8,(255,255,255),2)\n",
    "    cv2.imshow('LIVE',im)\n",
    "    key = cv2.waitKey(10)\n",
    "    # stop loop by ESC\n",
    "    if key == 27: # The Esc key\n",
    "        break\n",
    "        \n",
    "webcam.release()\n",
    "cv2.destroyAllWindows()"
   ]
  },
  {
   "cell_type": "code",
   "execution_count": null,
   "metadata": {},
   "outputs": [],
   "source": []
  }
 ],
 "metadata": {
  "kernelspec": {
   "display_name": "Python 3",
   "language": "python",
   "name": "python3"
  },
  "language_info": {
   "codemirror_mode": {
    "name": "ipython",
    "version": 3
   },
   "file_extension": ".py",
   "mimetype": "text/x-python",
   "name": "python",
   "nbconvert_exporter": "python",
   "pygments_lexer": "ipython3",
   "version": "3.7.6"
  }
 },
 "nbformat": 4,
 "nbformat_minor": 4
}
